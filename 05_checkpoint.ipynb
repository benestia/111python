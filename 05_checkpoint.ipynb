{
  "cells": [
    {
      "cell_type": "markdown",
      "metadata": {
        "id": "view-in-github",
        "colab_type": "text"
      },
      "source": [
        "<a href=\"https://colab.research.google.com/github/benestia/111python/blob/main/05_checkpoint.ipynb\" target=\"_parent\"><img src=\"https://colab.research.google.com/assets/colab-badge.svg\" alt=\"Open In Colab\"/></a>"
      ]
    },
    {
      "cell_type": "markdown",
      "metadata": {
        "id": "JncU1H7tCXXU"
      },
      "source": [
        "# Filtering"
      ]
    },
    {
      "cell_type": "markdown",
      "metadata": {
        "id": "CS8KLwMLCXXW"
      },
      "source": [
        "## Blur"
      ]
    },
    {
      "cell_type": "code",
      "execution_count": 2,
      "metadata": {
        "id": "9jwQEMYICXXX",
        "outputId": "889a3465-979a-4ea2-f54e-7d7cc4d62190",
        "colab": {
          "base_uri": "https://localhost:8080/",
          "height": 237
        }
      },
      "outputs": [
        {
          "output_type": "error",
          "ename": "error",
          "evalue": "ignored",
          "traceback": [
            "\u001b[0;31m---------------------------------------------------------------------------\u001b[0m",
            "\u001b[0;31merror\u001b[0m                                     Traceback (most recent call last)",
            "\u001b[0;32m<ipython-input-2-d1cdb72043ed>\u001b[0m in \u001b[0;36m<cell line: 5>\u001b[0;34m()\u001b[0m\n\u001b[1;32m      3\u001b[0m \u001b[0mimg\u001b[0m \u001b[0;34m=\u001b[0m\u001b[0mcv2\u001b[0m\u001b[0;34m.\u001b[0m\u001b[0mimread\u001b[0m\u001b[0;34m(\u001b[0m\u001b[0;34m\"images/lenaNoise.png\"\u001b[0m\u001b[0;34m)\u001b[0m\u001b[0;34m\u001b[0m\u001b[0;34m\u001b[0m\u001b[0m\n\u001b[1;32m      4\u001b[0m \u001b[0;34m\u001b[0m\u001b[0m\n\u001b[0;32m----> 5\u001b[0;31m \u001b[0mresult\u001b[0m \u001b[0;34m=\u001b[0m\u001b[0mcv2\u001b[0m\u001b[0;34m.\u001b[0m\u001b[0mblur\u001b[0m\u001b[0;34m(\u001b[0m\u001b[0mimg\u001b[0m\u001b[0;34m,\u001b[0m\u001b[0;34m(\u001b[0m\u001b[0;36m5\u001b[0m\u001b[0;34m,\u001b[0m\u001b[0;36m5\u001b[0m\u001b[0;34m)\u001b[0m\u001b[0;34m)\u001b[0m\u001b[0;34m\u001b[0m\u001b[0;34m\u001b[0m\u001b[0m\n\u001b[0m\u001b[1;32m      6\u001b[0m \u001b[0;34m\u001b[0m\u001b[0m\n\u001b[1;32m      7\u001b[0m \u001b[0mcv2\u001b[0m\u001b[0;34m.\u001b[0m\u001b[0mimshow\u001b[0m\u001b[0;34m(\u001b[0m\u001b[0;34m\"original\"\u001b[0m\u001b[0;34m,\u001b[0m \u001b[0mimg\u001b[0m\u001b[0;34m)\u001b[0m\u001b[0;34m\u001b[0m\u001b[0;34m\u001b[0m\u001b[0m\n",
            "\u001b[0;31merror\u001b[0m: OpenCV(4.7.0) /io/opencv/modules/imgproc/src/box_filter.dispatch.cpp:446: error: (-215:Assertion failed) !_src.empty() in function 'boxFilter'\n"
          ]
        }
      ],
      "source": [
        "import cv2\n",
        "\n",
        "img =cv2.imread(\"images/lenaNoise.png\")\n",
        "\n",
        "result =cv2.blur(img,(5,5))\n",
        "\n",
        "cv2.imshow(\"original\", img)\n",
        "cv2.imshow(\"result\",result)\n",
        "cv2.waitKey(0)\n",
        "cv2.destroyAllWindows()"
      ]
    },
    {
      "cell_type": "code",
      "execution_count": null,
      "metadata": {
        "id": "gud4w4S6CXXY"
      },
      "outputs": [],
      "source": [
        "import cv2\n",
        "o=cv2.imread(\"images/lenaNoise.png\")\n",
        "r5=cv2.blur(o,(5,5))      \n",
        "r30=cv2.blur(o,(30,30))      \n",
        "cv2.imshow(\"original\",o)\n",
        "cv2.imshow(\"result5\",r5)\n",
        "cv2.imshow(\"result30\",r30)\n",
        "cv2.waitKey(0)\n",
        "cv2.destroyAllWindows()"
      ]
    },
    {
      "cell_type": "markdown",
      "metadata": {
        "id": "nXXxfdNYCXXY"
      },
      "source": [
        "## Gaussian Filter"
      ]
    },
    {
      "cell_type": "code",
      "execution_count": null,
      "metadata": {
        "id": "iRRBWb9BCXXY"
      },
      "outputs": [],
      "source": [
        "import cv2\n",
        "o=cv2.imread(\"images/lenaNoise.png\")\n",
        "r=cv2.GaussianBlur(o,(5,5),0,0)\n",
        "cv2.imshow(\"original\",o)\n",
        "cv2.imshow(\"result\",r)\n",
        "\n",
        "cv2.waitKey(0)\n",
        "cv2.destroyAllWindows()"
      ]
    },
    {
      "cell_type": "markdown",
      "metadata": {
        "id": "PJTx1S84CXXZ"
      },
      "source": [
        "## Median Filter"
      ]
    },
    {
      "cell_type": "code",
      "execution_count": null,
      "metadata": {
        "id": "JSuCs2m1CXXZ"
      },
      "outputs": [],
      "source": [
        "import cv2\n",
        "o=cv2.imread(\"images/lenaNoise.png\")\n",
        "\n",
        "r=cv2.medianBlur(o,3)\n",
        "\n",
        "cv2.imshow(\"original\",o)\n",
        "cv2.imshow(\"result\",r)\n",
        "cv2.waitKey()\n",
        "cv2.destroyAllWindows()"
      ]
    },
    {
      "cell_type": "markdown",
      "metadata": {
        "id": "YP3zea8TCXXZ"
      },
      "source": [
        "## Bilateral Filter"
      ]
    },
    {
      "cell_type": "code",
      "execution_count": null,
      "metadata": {
        "id": "o8GSwUMeCXXZ"
      },
      "outputs": [],
      "source": [
        "import cv2\n",
        "o=cv2.imread(\"images/lenaNoise.png\")\n",
        "r=cv2.bilateralFilter(o,25,100,100)\n",
        "cv2.imshow(\"original\",o)\n",
        "cv2.imshow(\"result\",r)\n",
        "cv2.waitKey()\n",
        "cv2.destroyAllWindows()"
      ]
    },
    {
      "cell_type": "code",
      "execution_count": null,
      "metadata": {
        "id": "LSndsGmfCXXZ"
      },
      "outputs": [],
      "source": [
        "import cv2\n",
        "o=cv2.imread(\"images/bilTest.bmp\")\n",
        "\n",
        "g=r=cv2.GaussianBlur(o,(55,55),0,0)\n",
        "b=cv2.bilateralFilter(o,55,100,100)\n",
        "\n",
        "cv2.imshow(\"original\",o)\n",
        "cv2.imshow(\"Gaussian\",g)\n",
        "cv2.imshow(\"bilateral\",b)\n",
        "cv2.waitKey(0)\n",
        "cv2.destroyAllWindows()"
      ]
    },
    {
      "cell_type": "markdown",
      "metadata": {
        "id": "LbHYvX4JCXXZ"
      },
      "source": [
        "## Define other Filter "
      ]
    },
    {
      "cell_type": "code",
      "execution_count": null,
      "metadata": {
        "id": "I0gV_5cpCXXZ"
      },
      "outputs": [],
      "source": [
        "import cv2\n",
        "import numpy as np\n",
        "\n",
        "o=cv2.imread(\"images/lena.jpg\")\n",
        "kernel = np.ones((9,9),np.float32)/81\n",
        "\n",
        "r = cv2.filter2D(o,-1,kernel)\n",
        "cv2.imshow(\"original\",o)\n",
        "cv2.imshow(\"Gaussian\",r)\n",
        "cv2.waitKey()\n",
        "cv2.destroyAllWindows()"
      ]
    },
    {
      "cell_type": "code",
      "execution_count": null,
      "metadata": {
        "id": "_zqKWR27CXXa"
      },
      "outputs": [],
      "source": []
    }
  ],
  "metadata": {
    "kernelspec": {
      "display_name": "Python 3",
      "language": "python",
      "name": "python3"
    },
    "language_info": {
      "codemirror_mode": {
        "name": "ipython",
        "version": 3
      },
      "file_extension": ".py",
      "mimetype": "text/x-python",
      "name": "python",
      "nbconvert_exporter": "python",
      "pygments_lexer": "ipython3",
      "version": "3.8.6"
    },
    "colab": {
      "provenance": [],
      "include_colab_link": true
    }
  },
  "nbformat": 4,
  "nbformat_minor": 0
}